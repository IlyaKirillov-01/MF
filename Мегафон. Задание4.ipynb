{
 "cells": [
  {
   "cell_type": "markdown",
   "id": "392bff90",
   "metadata": {},
   "source": [
    "В таблице ниже приведена выборка абонентов и показателей по ним (ежемесячные начисления, трафик, тип устройства)\n",
    "Необходимо подготовить выборку к анализу (выделить или исключить нехарактерные значения) и сделать сегментацию, выделив 3-5 характерных сегментов на основе профиля абонента. Обосновать выбор критериев и сделать выводы.\n"
   ]
  },
  {
   "cell_type": "code",
   "execution_count": 230,
   "id": "20b4ecae",
   "metadata": {},
   "outputs": [],
   "source": [
    "#импортирую нужные библиотеки\n",
    "import pandas as pd\n",
    "import numpy as np\n",
    "import datetime as dt\n",
    "from datetime import datetime, timedelta, time\n",
    "import math as mth\n",
    "import scipy.stats as st\n",
    "from scipy.stats import ttest_ind\n",
    "import matplotlib\n",
    "from matplotlib import pyplot as plt\n",
    "import seaborn as sns\n",
    "from plotly import graph_objects as go\n",
    "from IPython.display import display\n",
    "import plotly.express as px"
   ]
  },
  {
   "cell_type": "markdown",
   "id": "8cee99a1",
   "metadata": {},
   "source": [
    "Импорт файла эксель с табилцей"
   ]
  },
  {
   "cell_type": "code",
   "execution_count": 231,
   "id": "ecc7b7dc",
   "metadata": {
    "scrolled": true
   },
   "outputs": [],
   "source": [
    "data = pd.read_excel(\"C:/Users/ILYUSHA/Downloads/C897E280_1АвтоматическиВосстановлено.xlsx\", sheet_name='Лист3')"
   ]
  },
  {
   "cell_type": "markdown",
   "id": "748f692e",
   "metadata": {},
   "source": [
    "Просмотр общей информации о файле"
   ]
  },
  {
   "cell_type": "code",
   "execution_count": 232,
   "id": "c3c035e3",
   "metadata": {
    "scrolled": true
   },
   "outputs": [
    {
     "name": "stdout",
     "output_type": "stream",
     "text": [
      "<class 'pandas.core.frame.DataFrame'>\n",
      "RangeIndex: 14636 entries, 0 to 14635\n",
      "Data columns (total 6 columns):\n",
      " #   Column          Non-Null Count  Dtype  \n",
      "---  ------          --------------  -----  \n",
      " 0   id              14636 non-null  int64  \n",
      " 1   category        14590 non-null  object \n",
      " 2   revenue         14636 non-null  float64\n",
      " 3   tr_voice_min    14636 non-null  float64\n",
      " 4   tr_data_mb      14636 non-null  float64\n",
      " 5   tr_rouming_min  14636 non-null  float64\n",
      "dtypes: float64(4), int64(1), object(1)\n",
      "memory usage: 686.2+ KB\n"
     ]
    }
   ],
   "source": [
    "data.info()"
   ]
  },
  {
   "cell_type": "code",
   "execution_count": 233,
   "id": "64df5df3",
   "metadata": {
    "scrolled": true
   },
   "outputs": [
    {
     "data": {
      "text/plain": [
       "id                 0\n",
       "category          46\n",
       "revenue            0\n",
       "tr_voice_min       0\n",
       "tr_data_mb         0\n",
       "tr_rouming_min     0\n",
       "dtype: int64"
      ]
     },
     "execution_count": 233,
     "metadata": {},
     "output_type": "execute_result"
    }
   ],
   "source": [
    "data.isna().sum() #Вывожу количество пропусков в столбцах"
   ]
  },
  {
   "cell_type": "markdown",
   "id": "ebbbc578",
   "metadata": {},
   "source": [
    "Пропуски есть только в столбце category. Всего строк в данных 14636, пропусков 46. Их можно удалить, так как они занимают малую долю"
   ]
  },
  {
   "cell_type": "code",
   "execution_count": 234,
   "id": "371a18d8",
   "metadata": {},
   "outputs": [
    {
     "data": {
      "text/plain": [
       "id                0\n",
       "category          0\n",
       "revenue           0\n",
       "tr_voice_min      0\n",
       "tr_data_mb        0\n",
       "tr_rouming_min    0\n",
       "dtype: int64"
      ]
     },
     "execution_count": 234,
     "metadata": {},
     "output_type": "execute_result"
    }
   ],
   "source": [
    "data = data.dropna ()\n",
    "data.isna().sum()"
   ]
  },
  {
   "cell_type": "markdown",
   "id": "964d3783",
   "metadata": {},
   "source": [
    "### Обработка аномальных значений"
   ]
  },
  {
   "cell_type": "markdown",
   "id": "6264ae0d",
   "metadata": {},
   "source": [
    "В данных могут встречаться артефакты (аномалии) — значения, которые не отражают действительность и появились по какой-то ошибке.\n",
    "Например, отрицательные значения в полях трафика. Проверим их наличие"
   ]
  },
  {
   "cell_type": "code",
   "execution_count": 235,
   "id": "f3f5239e",
   "metadata": {
    "scrolled": true
   },
   "outputs": [
    {
     "name": "stdout",
     "output_type": "stream",
     "text": [
      "Число отрицательных значений в столбце tr_voice_min =  5\n"
     ]
    }
   ],
   "source": [
    "print('Число отрицательных значений в столбце tr_voice_min = ',len(data.query('tr_voice_min<0')))"
   ]
  },
  {
   "cell_type": "code",
   "execution_count": 236,
   "id": "8394da85",
   "metadata": {
    "scrolled": false
   },
   "outputs": [
    {
     "name": "stdout",
     "output_type": "stream",
     "text": [
      "Число отрицательных значений в столбце tr_data_mb =  3\n"
     ]
    }
   ],
   "source": [
    "print('Число отрицательных значений в столбце tr_data_mb = ',len(data.query('tr_data_mb<0')))"
   ]
  },
  {
   "cell_type": "code",
   "execution_count": 237,
   "id": "c634abaf",
   "metadata": {
    "scrolled": false
   },
   "outputs": [
    {
     "name": "stdout",
     "output_type": "stream",
     "text": [
      "Число отрицательных значений в столбце tr_rouming_min =  1\n"
     ]
    }
   ],
   "source": [
    "print('Число отрицательных значений в столбце tr_rouming_min = ',len(data.query('tr_rouming_min<0')))"
   ]
  },
  {
   "cell_type": "code",
   "execution_count": 238,
   "id": "5ed51004",
   "metadata": {},
   "outputs": [
    {
     "name": "stdout",
     "output_type": "stream",
     "text": [
      "Число отрицательных значений в столбце revenue =  63\n"
     ]
    }
   ],
   "source": [
    "print('Число отрицательных значений в столбце revenue = ',len(data.query('revenue<0')))"
   ]
  },
  {
   "cell_type": "code",
   "execution_count": 239,
   "id": "1b61ef1c",
   "metadata": {},
   "outputs": [
    {
     "data": {
      "text/plain": [
       "14590"
      ]
     },
     "execution_count": 239,
     "metadata": {},
     "output_type": "execute_result"
    }
   ],
   "source": [
    "len(data)"
   ]
  },
  {
   "cell_type": "markdown",
   "id": "8a6170f6",
   "metadata": {},
   "source": [
    "Так как таких записей всего 72, то удалю их из таблицы"
   ]
  },
  {
   "cell_type": "code",
   "execution_count": 240,
   "id": "46e1eb2b",
   "metadata": {},
   "outputs": [],
   "source": [
    "\n",
    "data = data.query('tr_voice_min >= 0')\n",
    "data = data.query('tr_data_mb >= 0')\n",
    "data = data.query('tr_rouming_min >= 0')\n",
    "data = data.query('revenue >= 0')"
   ]
  },
  {
   "cell_type": "code",
   "execution_count": 241,
   "id": "e6da350e",
   "metadata": {
    "scrolled": true
   },
   "outputs": [
    {
     "name": "stdout",
     "output_type": "stream",
     "text": [
      "Теперь число отрицательных значений в столбце tr_voice_min =  0\n"
     ]
    }
   ],
   "source": [
    "print('Теперь число отрицательных значений в столбце tr_voice_min = ',len(data.query('tr_voice_min<0')))"
   ]
  },
  {
   "cell_type": "code",
   "execution_count": 242,
   "id": "80d1989f",
   "metadata": {},
   "outputs": [
    {
     "name": "stdout",
     "output_type": "stream",
     "text": [
      "Теперь Число отрицательных значений в столбце tr_data_mb =  0\n"
     ]
    }
   ],
   "source": [
    "print('Теперь Число отрицательных значений в столбце tr_data_mb = ',len(data.query('tr_data_mb<0')))"
   ]
  },
  {
   "cell_type": "code",
   "execution_count": 243,
   "id": "d6c097a4",
   "metadata": {
    "scrolled": true
   },
   "outputs": [
    {
     "name": "stdout",
     "output_type": "stream",
     "text": [
      "Теперь Число отрицательных значений в столбце tr_rouming_min =  0\n"
     ]
    }
   ],
   "source": [
    "print('Теперь Число отрицательных значений в столбце tr_rouming_min = ',len(data.query('tr_rouming_min<0')))"
   ]
  },
  {
   "cell_type": "code",
   "execution_count": 244,
   "id": "4ca5b32d",
   "metadata": {},
   "outputs": [
    {
     "name": "stdout",
     "output_type": "stream",
     "text": [
      "Теперь Число отрицательных значений в столбце revenue =  0\n"
     ]
    }
   ],
   "source": [
    "print('Теперь Число отрицательных значений в столбце revenue = ',len(data.query('revenue<0')))"
   ]
  },
  {
   "cell_type": "markdown",
   "id": "29349cd5",
   "metadata": {},
   "source": [
    "**РАБОТА С ДУБЛИКАТАМИ**"
   ]
  },
  {
   "cell_type": "code",
   "execution_count": 245,
   "id": "55e7fc79",
   "metadata": {
    "scrolled": true
   },
   "outputs": [
    {
     "name": "stdout",
     "output_type": "stream",
     "text": [
      "В данных есть 25 дубликатов\n"
     ]
    }
   ],
   "source": [
    "print('В данных есть {} дубликатов'.format( data.duplicated().sum()))"
   ]
  },
  {
   "cell_type": "markdown",
   "id": "f01b9ed2",
   "metadata": {},
   "source": [
    "Удалю их, так как они занимают малую долю"
   ]
  },
  {
   "cell_type": "code",
   "execution_count": 246,
   "id": "0f4b78d1",
   "metadata": {},
   "outputs": [],
   "source": [
    "data = data.drop_duplicates(keep='first')# удаляю дубликаты, оставляю первую строку каждого дубликата\n"
   ]
  },
  {
   "cell_type": "markdown",
   "id": "36444bdb",
   "metadata": {},
   "source": [
    "***ТАким образом, я очистил данных от дублей, пропусков, отрицательных значений***"
   ]
  },
  {
   "cell_type": "markdown",
   "id": "b32d83ad",
   "metadata": {},
   "source": [
    "**РАБОТА С ВЫБРОСАМИ**"
   ]
  },
  {
   "cell_type": "markdown",
   "id": "f014c461",
   "metadata": {},
   "source": [
    "Работа с выбросами играет важное значение, так как результаты анализа датасета с выбросами и без могут отличаться. Поэтому при презентации результатов стоит это упомянуть. \n",
    "\n",
    "Также для анализа можно использовать оба датасета (очищенный от выбросов и нет) и затем сравнить их результаты"
   ]
  },
  {
   "cell_type": "markdown",
   "id": "7c52e644",
   "metadata": {},
   "source": [
    "Выручка и виды трафика в таблице представлены в разных единицах(руб, мин, мб), поэтому исследовать их на одном боксплоте некорректно."
   ]
  },
  {
   "cell_type": "code",
   "execution_count": 247,
   "id": "80239c7f",
   "metadata": {
    "scrolled": true
   },
   "outputs": [
    {
     "data": {
      "text/plain": [
       "<AxesSubplot:>"
      ]
     },
     "execution_count": 247,
     "metadata": {},
     "output_type": "execute_result"
    },
    {
     "data": {
      "image/png": "[encoded data removed]",
      "text/plain": [
       "<Figure size 640x480 with 1 Axes>"
      ]
     },
     "metadata": {},
     "output_type": "display_data"
    }
   ],
   "source": [
    "data.boxplot(column=['revenue','tr_voice_min', 'tr_data_mb', 'tr_rouming_min'])"
   ]
  },
  {
   "cell_type": "markdown",
   "id": "57ba1ff1",
   "metadata": {},
   "source": [
    "**Рассмотрю выручку (начисления)**"
   ]
  },
  {
   "cell_type": "code",
   "execution_count": 248,
   "id": "b11da51b",
   "metadata": {
    "scrolled": false
   },
   "outputs": [
    {
     "data": {
      "text/plain": [
       "count    14493.000000\n",
       "mean         0.107949\n",
       "std         12.461270\n",
       "min          0.000000\n",
       "25%          0.000318\n",
       "50%          0.000758\n",
       "75%          0.001759\n",
       "max       1500.098005\n",
       "Name: revenue, dtype: float64"
      ]
     },
     "execution_count": 248,
     "metadata": {},
     "output_type": "execute_result"
    }
   ],
   "source": [
    "(data['revenue']/1000000).describe()"
   ]
  },
  {
   "cell_type": "markdown",
   "id": "7e7f4cb4",
   "metadata": {},
   "source": [
    "Привел данные к млн. Видно, что данные сильно искажены из за выбросов, медиана и среднее значение сильно отличаются. "
   ]
  },
  {
   "cell_type": "code",
   "execution_count": 249,
   "id": "6811480a",
   "metadata": {
    "scrolled": false
   },
   "outputs": [
    {
     "data": {
      "text/plain": [
       "<AxesSubplot:>"
      ]
     },
     "execution_count": 249,
     "metadata": {},
     "output_type": "execute_result"
    },
    {
     "data": {
      "image/png": "[encoded data removed]",
      "text/plain": [
       "<Figure size 640x480 with 1 Axes>"
      ]
     },
     "metadata": {},
     "output_type": "display_data"
    }
   ],
   "source": [
    "data.boxplot(column=['revenue'])"
   ]
  },
  {
   "cell_type": "markdown",
   "id": "64e794d4",
   "metadata": {},
   "source": [
    "По такому ящику можно сказать, что значение ~1.5 млрд - выброс.\n",
    "Рассмотрю также график более детально"
   ]
  },
  {
   "cell_type": "code",
   "execution_count": 250,
   "id": "f477ff45",
   "metadata": {
    "scrolled": false
   },
   "outputs": [
    {
     "data": {
      "text/plain": [
       "[(0.0, 20000.0)]"
      ]
     },
     "execution_count": 250,
     "metadata": {},
     "output_type": "execute_result"
    },
    {
     "data": {
      "image/png": "[encoded data removed]",
      "text/plain": [
       "<Figure size 640x480 with 1 Axes>"
      ]
     },
     "metadata": {},
     "output_type": "display_data"
    }
   ],
   "source": [
    "a = sns.boxplot(y=data[\"revenue\"])\n",
    "a.set(ylim=(0,20000))"
   ]
  },
  {
   "cell_type": "markdown",
   "id": "2850e864",
   "metadata": {},
   "source": [
    "В соответствии с правилами анализа данных выбросами считаются те значения, которые лежат выше верхней границы (75% + 1,5IQR)"
   ]
  },
  {
   "cell_type": "code",
   "execution_count": 251,
   "id": "db92aac1",
   "metadata": {},
   "outputs": [],
   "source": [
    "IQR1_5_rev = np.percentile(data[['revenue']], 75) + 1.5*(np.percentile(data[['revenue']], 75)-np.percentile(data[['revenue']], 25))"
   ]
  },
  {
   "cell_type": "code",
   "execution_count": 252,
   "id": "9005e724",
   "metadata": {},
   "outputs": [
    {
     "name": "stdout",
     "output_type": "stream",
     "text": [
      "Таких данных в выборке:  2009 или  13.86 %\n"
     ]
    }
   ],
   "source": [
    "print('Таких данных в выборке: ', len(data.query('revenue > @IQR1_5_rev')),'или ',  round(len(data.query('revenue > @IQR1_5_rev'))/len(data)*100,2), '%')"
   ]
  },
  {
   "cell_type": "markdown",
   "id": "09ee514a",
   "metadata": {},
   "source": [
    "13.8 % - является весомым показателем. Удалив их, результаты могут быть искажены. Поэтому оставим в выборке данные до 99 персентиля"
   ]
  },
  {
   "cell_type": "code",
   "execution_count": 253,
   "id": "f1a68f59",
   "metadata": {},
   "outputs": [],
   "source": [
    "pc99 = np.percentile(data[['revenue']], 99)"
   ]
  },
  {
   "cell_type": "code",
   "execution_count": 254,
   "id": "bf30293d",
   "metadata": {},
   "outputs": [],
   "source": [
    "clean_data = data. query('revenue<= @pc99') "
   ]
  },
  {
   "cell_type": "code",
   "execution_count": 255,
   "id": "009f50aa",
   "metadata": {
    "scrolled": false
   },
   "outputs": [
    {
     "data": {
      "text/plain": [
       "count    14348.000000\n",
       "mean      2645.811694\n",
       "std       5280.206236\n",
       "min          0.000000\n",
       "25%        315.000508\n",
       "50%        748.786700\n",
       "75%       1693.210517\n",
       "max      34436.111100\n",
       "Name: revenue, dtype: float64"
      ]
     },
     "execution_count": 255,
     "metadata": {},
     "output_type": "execute_result"
    }
   ],
   "source": [
    "clean_data['revenue'].describe()"
   ]
  },
  {
   "cell_type": "markdown",
   "id": "90341855",
   "metadata": {},
   "source": [
    "Теперь разница между средним и медианой значительно сократилась"
   ]
  },
  {
   "cell_type": "markdown",
   "id": "6a9fca19",
   "metadata": {},
   "source": [
    "**Работа с голосовым трафиком (мин)**"
   ]
  },
  {
   "cell_type": "code",
   "execution_count": 256,
   "id": "7bd2ed0d",
   "metadata": {
    "scrolled": true
   },
   "outputs": [
    {
     "data": {
      "text/plain": [
       "count    14348.000000\n",
       "mean       935.804319\n",
       "std       1975.644444\n",
       "min          0.000000\n",
       "25%          3.993750\n",
       "50%         57.400000\n",
       "75%        960.814583\n",
       "max      37159.952780\n",
       "Name: tr_voice_min, dtype: float64"
      ]
     },
     "execution_count": 256,
     "metadata": {},
     "output_type": "execute_result"
    }
   ],
   "source": [
    "clean_data['tr_voice_min'].describe()"
   ]
  },
  {
   "cell_type": "markdown",
   "id": "71214725",
   "metadata": {},
   "source": [
    "разница между средним и медианой кратка почти 20, что говорит о выбросах"
   ]
  },
  {
   "cell_type": "code",
   "execution_count": 257,
   "id": "2e2e2188",
   "metadata": {
    "scrolled": true
   },
   "outputs": [
    {
     "data": {
      "image/png": "[encoded data removed]",
      "text/plain": [
       "<Figure size 640x480 with 1 Axes>"
      ]
     },
     "metadata": {},
     "output_type": "display_data"
    }
   ],
   "source": [
    "a = sns.boxplot(y=clean_data[\"tr_voice_min\"])"
   ]
  },
  {
   "cell_type": "markdown",
   "id": "e16ffb0d",
   "metadata": {},
   "source": [
    "В голосовом трафике также наблюдаются выбросы. Рассмотрим какую долю они занимают"
   ]
  },
  {
   "cell_type": "code",
   "execution_count": 258,
   "id": "51d593d0",
   "metadata": {},
   "outputs": [],
   "source": [
    "IQR1_5_voice = np.percentile(clean_data[['tr_voice_min']], 75) + 1.5*(np.percentile(clean_data[['tr_voice_min']], 75)-np.percentile(clean_data[['tr_voice_min']], 25))"
   ]
  },
  {
   "cell_type": "code",
   "execution_count": 259,
   "id": "0b825968",
   "metadata": {},
   "outputs": [
    {
     "name": "stdout",
     "output_type": "stream",
     "text": [
      "Таких данных в выборке:  1293 или  9.01 %\n"
     ]
    }
   ],
   "source": [
    "print('Таких данных в выборке: ', len(clean_data.query('tr_voice_min > @IQR1_5_voice')),'или ',  round(len(clean_data.query('tr_voice_min > @IQR1_5_voice'))/len(clean_data)*100,2), '%')"
   ]
  },
  {
   "cell_type": "markdown",
   "id": "e4a4cee5",
   "metadata": {},
   "source": [
    "9 % - также является большим показателем. Удалив их, результаты могут быть искажены. Поэтому оставим в выборке данные до 99 персентиля"
   ]
  },
  {
   "cell_type": "code",
   "execution_count": 260,
   "id": "46ddc9b1",
   "metadata": {},
   "outputs": [],
   "source": [
    "pc99_сlean = np.percentile(clean_data[['tr_voice_min']], 99)"
   ]
  },
  {
   "cell_type": "code",
   "execution_count": 261,
   "id": "f72b466a",
   "metadata": {},
   "outputs": [],
   "source": [
    "clean_data = clean_data. query('tr_voice_min<= @pc99_сlean') "
   ]
  },
  {
   "cell_type": "code",
   "execution_count": 262,
   "id": "cf6e9db3",
   "metadata": {
    "scrolled": true
   },
   "outputs": [
    {
     "data": {
      "text/plain": [
       "count    14204.000000\n",
       "mean       829.279436\n",
       "std       1627.976217\n",
       "min          0.000000\n",
       "25%          3.736111\n",
       "50%         56.180556\n",
       "75%        933.651390\n",
       "max       8694.347222\n",
       "Name: tr_voice_min, dtype: float64"
      ]
     },
     "execution_count": 262,
     "metadata": {},
     "output_type": "execute_result"
    }
   ],
   "source": [
    "clean_data['tr_voice_min'].describe()"
   ]
  },
  {
   "cell_type": "markdown",
   "id": "be5d066c",
   "metadata": {},
   "source": [
    "Разница между средним и медианой незначительно изменилась"
   ]
  },
  {
   "cell_type": "markdown",
   "id": "60445165",
   "metadata": {},
   "source": [
    "**Работа с трафиком передачи данных (мб)**"
   ]
  },
  {
   "cell_type": "code",
   "execution_count": 263,
   "id": "100ca3f7",
   "metadata": {
    "scrolled": true
   },
   "outputs": [
    {
     "data": {
      "text/plain": [
       "count    1.420400e+04\n",
       "mean     2.404891e+04\n",
       "std      4.867865e+04\n",
       "min      0.000000e+00\n",
       "25%      6.767969e+02\n",
       "50%      3.130255e+03\n",
       "75%      5.035766e+04\n",
       "max      1.772188e+06\n",
       "Name: tr_data_mb, dtype: float64"
      ]
     },
     "execution_count": 263,
     "metadata": {},
     "output_type": "execute_result"
    }
   ],
   "source": [
    "clean_data['tr_data_mb'].describe()"
   ]
  },
  {
   "cell_type": "markdown",
   "id": "92133d12",
   "metadata": {},
   "source": [
    "разница между средним и медианой ~8 раз"
   ]
  },
  {
   "cell_type": "code",
   "execution_count": 264,
   "id": "a450c9e7",
   "metadata": {
    "scrolled": true
   },
   "outputs": [
    {
     "data": {
      "image/png": "[encoded data removed]",
      "text/plain": [
       "<Figure size 640x480 with 1 Axes>"
      ]
     },
     "metadata": {},
     "output_type": "display_data"
    }
   ],
   "source": [
    "a = sns.boxplot(y=clean_data[\"tr_data_mb\"])"
   ]
  },
  {
   "cell_type": "markdown",
   "id": "cfb64f93",
   "metadata": {},
   "source": [
    "В tr_data_mb также наблюдаются выбросы. Рассмотрим какую долю они занимают"
   ]
  },
  {
   "cell_type": "code",
   "execution_count": 265,
   "id": "9b178b13",
   "metadata": {},
   "outputs": [],
   "source": [
    "IQR1_5_mb = np.percentile(clean_data[['tr_data_mb']], 75) + 1.5*(np.percentile(clean_data[['tr_data_mb']], 75)-np.percentile(clean_data[['tr_data_mb']], 25))"
   ]
  },
  {
   "cell_type": "code",
   "execution_count": 266,
   "id": "9ab9e1fb",
   "metadata": {
    "scrolled": true
   },
   "outputs": [
    {
     "name": "stdout",
     "output_type": "stream",
     "text": [
      "Таких данных в выборке:  325 или  2.29 %\n"
     ]
    }
   ],
   "source": [
    "print('Таких данных в выборке: ', len(clean_data.query('tr_data_mb > @IQR1_5_mb')),'или ',  round(len(clean_data.query('tr_data_mb > @IQR1_5_mb'))/len(clean_data)*100,2), '%')"
   ]
  },
  {
   "cell_type": "markdown",
   "id": "c7d168ac",
   "metadata": {},
   "source": [
    "2.29% можно удалить из выборки, сильного влияния на результат анализа это не окажет"
   ]
  },
  {
   "cell_type": "code",
   "execution_count": 267,
   "id": "9fdef532",
   "metadata": {},
   "outputs": [],
   "source": [
    "clean_data = clean_data.query('tr_data_mb<=@IQR1_5_mb')"
   ]
  },
  {
   "cell_type": "code",
   "execution_count": 269,
   "id": "711142bd",
   "metadata": {
    "scrolled": true
   },
   "outputs": [
    {
     "data": {
      "text/plain": [
       "count     13879.000000\n",
       "mean      19778.621759\n",
       "std       30044.645260\n",
       "min           0.000000\n",
       "25%         529.320477\n",
       "50%        2937.234217\n",
       "75%       29985.710210\n",
       "max      124810.079600\n",
       "Name: tr_data_mb, dtype: float64"
      ]
     },
     "execution_count": 269,
     "metadata": {},
     "output_type": "execute_result"
    }
   ],
   "source": [
    "clean_data['tr_data_mb'].describe()"
   ]
  },
  {
   "cell_type": "markdown",
   "id": "d5348c93",
   "metadata": {},
   "source": [
    "Разница между средним и медианой уменьшилась, но все равно остается огромной."
   ]
  },
  {
   "cell_type": "markdown",
   "id": "a6f592cf",
   "metadata": {},
   "source": [
    "**Работа с трафиком в роуминге**"
   ]
  },
  {
   "cell_type": "code",
   "execution_count": 271,
   "id": "0044c901",
   "metadata": {
    "scrolled": true
   },
   "outputs": [
    {
     "data": {
      "image/png": "[encoded data removed]",
      "text/plain": [
       "<Figure size 640x480 with 1 Axes>"
      ]
     },
     "metadata": {},
     "output_type": "display_data"
    }
   ],
   "source": [
    "a = sns.boxplot(y=clean_data[\"tr_rouming_min\"])"
   ]
  },
  {
   "cell_type": "markdown",
   "id": "fd987509",
   "metadata": {},
   "source": [
    "В tr_rouming_min также наблюдаются выбросы. Рассмотрим какую долю они занимают"
   ]
  },
  {
   "cell_type": "code",
   "execution_count": 272,
   "id": "1daf5977",
   "metadata": {},
   "outputs": [],
   "source": [
    "IQR1_5_roum = np.percentile(clean_data[['tr_rouming_min']], 75) + 1.5*(np.percentile(clean_data[['tr_rouming_min']], 75)-np.percentile(clean_data[['tr_rouming_min']], 25))"
   ]
  },
  {
   "cell_type": "code",
   "execution_count": 273,
   "id": "97bf3e15",
   "metadata": {
    "scrolled": true
   },
   "outputs": [
    {
     "name": "stdout",
     "output_type": "stream",
     "text": [
      "Таких данных в выборке:  3107 или  22.39 %\n"
     ]
    }
   ],
   "source": [
    "print('Таких данных в выборке: ', len(clean_data.query('tr_rouming_min > @IQR1_5_roum')),'или ',  round(len(clean_data.query('tr_rouming_min > @IQR1_5_roum'))/len(clean_data)*100,2), '%')"
   ]
  },
  {
   "cell_type": "markdown",
   "id": "af458adb",
   "metadata": {},
   "source": [
    "Не буду ничего удалять, так как это 1/5 данных"
   ]
  },
  {
   "cell_type": "markdown",
   "id": "f973f952",
   "metadata": {},
   "source": [
    "**Таким образом, были проанализированы числовые данные**\n",
    "\n",
    "были удалены из выборки аномально большие значения, которые способны сильно повляить на результат. В некоторых столбцах выбросы не были удалены, так как их доля слишком большая - удалив данные, результаты анализы могут исказиться."
   ]
  },
  {
   "cell_type": "code",
   "execution_count": 284,
   "id": "27ad0f75",
   "metadata": {},
   "outputs": [
    {
     "name": "stdout",
     "output_type": "stream",
     "text": [
      "из первоначальных данных было удалено  4.24 %\n"
     ]
    }
   ],
   "source": [
    "print('из первоначальных данных было удалено ', round(100- len(clean_data)/len(data)*100,2), '%')"
   ]
  }
 ],
 "metadata": {
  "kernelspec": {
   "display_name": "Python 3 (ipykernel)",
   "language": "python",
   "name": "python3"
  },
  "language_info": {
   "codemirror_mode": {
    "name": "ipython",
    "version": 3
   },
   "file_extension": ".py",
   "mimetype": "text/x-python",
   "name": "python",
   "nbconvert_exporter": "python",
   "pygments_lexer": "ipython3",
   "version": "3.9.13"
  }
 },
 "nbformat": 4,
 "nbformat_minor": 5
}
